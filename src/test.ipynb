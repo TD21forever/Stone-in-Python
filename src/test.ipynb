{
 "cells": [
  {
   "cell_type": "code",
   "execution_count": 1,
   "metadata": {},
   "outputs": [],
   "source": [
    "import re"
   ]
  },
  {
   "cell_type": "code",
   "execution_count": 129,
   "metadata": {},
   "outputs": [
    {
     "name": "stdout",
     "output_type": "stream",
     "text": [
      "\\s*((//.*)|([0-9]+)|([A-Z_a-z][A-Z_a-z0-9]*|==|<=|>=|&&|\\|\\||[!#$%&'()*+,-.:;<=>?@[\\]^_`{|}~])|\"((\"|\\\\|\\n|[^\"])*)\")?\n",
      "(None, None, None, None, None, None)\n",
      "None\n",
      "('i', None, None, 'i', None, None)\n",
      "None\n",
      "('=', None, None, '=', None, None)\n",
      "None\n",
      "('10', None, '10', None, None, None)\n",
      "None\n",
      "(None, None, None, None, None, None)\n",
      "None\n",
      "('sum', None, None, 'sum', None, None)\n",
      "None\n",
      "('=', None, None, '=', None, None)\n",
      "None\n",
      "('0', None, '0', None, None, None)\n",
      "None\n",
      "(None, None, None, None, None, None)\n",
      "None\n",
      "('while', None, None, 'while', None, None)\n",
      "None\n",
      "('i', None, None, 'i', None, None)\n",
      "None\n",
      "('>', None, None, '>', None, None)\n",
      "None\n",
      "('0', None, '0', None, None, None)\n",
      "None\n",
      "('{', None, None, '{', None, None)\n",
      "None\n",
      "(None, None, None, None, None, None)\n",
      "None\n",
      "('b', None, None, 'b', None, None)\n",
      "None\n",
      "('=', None, None, '=', None, None)\n",
      "None\n",
      "('\"hello world\"', None, None, None, 'hello world', 'd')\n",
      "hello world\n",
      "(None, None, None, None, None, None)\n",
      "None\n",
      "('sum', None, None, 'sum', None, None)\n",
      "None\n",
      "('=', None, None, '=', None, None)\n",
      "None\n",
      "('sum', None, None, 'sum', None, None)\n",
      "None\n",
      "('+', None, None, '+', None, None)\n",
      "None\n",
      "('1', None, '1', None, None, None)\n",
      "None\n",
      "('// comment', '// comment', None, None, None, None)\n",
      "None\n",
      "(None, None, None, None, None, None)\n",
      "None\n",
      "('i', None, None, 'i', None, None)\n",
      "None\n",
      "('=', None, None, '=', None, None)\n",
      "None\n",
      "('i', None, None, 'i', None, None)\n",
      "None\n",
      "('-', None, None, '-', None, None)\n",
      "None\n",
      "('1', None, '1', None, None, None)\n",
      "None\n",
      "(None, None, None, None, None, None)\n",
      "None\n",
      "('}', None, None, '}', None, None)\n",
      "None\n",
      "(None, None, None, None, None, None)\n",
      "None\n",
      "(None, None, None, None, None, None)\n",
      "None\n",
      "(None, None, None, None, None, None)\n",
      "None\n"
     ]
    }
   ],
   "source": [
    "import string\n",
    "\n",
    "\n",
    "\n",
    "\n",
    "print(token_pattern)\n",
    "\n",
    "pattern = re.compile(token_pattern,re.M)\n",
    "\n",
    "text = \"\"\"\n",
    "i = 10\n",
    "sum = 0\n",
    "while i > 0 {\n",
    "    b = \"hello world\"\n",
    "    sum = sum + 1 // comment\n",
    "    i = i - 1\n",
    "}\n",
    "\n",
    "\"\"\"\n",
    "\n",
    "\n",
    "for code in text.split(\"\\n\"):\n",
    "    for match in pattern.finditer(code):\n",
    "        print(match.groups())\n",
    "        print(match.group(5))\n",
    "    # print(match)"
   ]
  },
  {
   "cell_type": "code",
   "execution_count": 117,
   "metadata": {},
   "outputs": [
    {
     "name": "stdout",
     "output_type": "stream",
     "text": [
      "0 ('\"hello world\"', None, None, None, 'hello world', 'd')\n",
      "1 (None, None, None, None, None, None)\n",
      "2 (None, None, None, None, None, None)\n"
     ]
    }
   ],
   "source": [
    "\n"
   ]
  },
  {
   "cell_type": "code",
   "execution_count": null,
   "metadata": {},
   "outputs": [],
   "source": [
    "lis = [1,2,3]\n",
    "\n"
   ]
  }
 ],
 "metadata": {
  "kernelspec": {
   "display_name": "Python 3.7.11 ('ml')",
   "language": "python",
   "name": "python3"
  },
  "language_info": {
   "codemirror_mode": {
    "name": "ipython",
    "version": 3
   },
   "file_extension": ".py",
   "mimetype": "text/x-python",
   "name": "python",
   "nbconvert_exporter": "python",
   "pygments_lexer": "ipython3",
   "version": "3.7.11"
  },
  "orig_nbformat": 4,
  "vscode": {
   "interpreter": {
    "hash": "4fe91bd54e4eab9fd37ff994b75a751127066e152ab17ebb6cd473f82f3fc78b"
   }
  }
 },
 "nbformat": 4,
 "nbformat_minor": 2
}
